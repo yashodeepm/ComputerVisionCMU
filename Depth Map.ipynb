{
 "cells": [
  {
   "cell_type": "code",
   "execution_count": 40,
   "metadata": {},
   "outputs": [],
   "source": [
    "import cv2\n",
    "import numpy as np\n",
    "import math\n",
    "import pylab as plt"
   ]
  },
  {
   "cell_type": "code",
   "execution_count": 57,
   "metadata": {},
   "outputs": [],
   "source": [
    "left = np.array(cv2.imread('left.png'))\n",
    "right = np.array(cv2.imread('right.png'))\n",
    "left_bw = left[:,:,0]/3 + left[:,:,1]/3 + left[:,:,2]/3\n",
    "right_bw = right[:,:,0]/3 + right[:,:,1]/3 + right[:,:,2]/3"
   ]
  },
  {
   "cell_type": "code",
   "execution_count": 100,
   "metadata": {
    "collapsed": true
   },
   "outputs": [],
   "source": [
    "template_size = 19\n",
    "# assert(len(left)==len(right))\n",
    "# assert(len(left[0])==len(right[0]))\n",
    "np_left = np.array(left_bw)\n",
    "np_right = np.array(right_bw)\n",
    "dim = np.shape(np_left)\n",
    "rows,cols = dim[0],dim[1]"
   ]
  },
  {
   "cell_type": "code",
   "execution_count": 116,
   "metadata": {},
   "outputs": [
    {
     "name": "stdout",
     "output_type": "stream",
     "text": [
      "Row 0 starting....(0%)\n",
      "Row 10 starting....(3%)\n",
      "Row 20 starting....(5%)\n",
      "Row 30 starting....(8%)\n",
      "Row 40 starting....(11%)\n",
      "Row 50 starting....(14%)\n",
      "Row 60 starting....(17%)\n",
      "Row 70 starting....(19%)\n",
      "Row 80 starting....(22%)\n",
      "Row 90 starting....(25%)\n",
      "Row 100 starting....(28%)\n",
      "Row 110 starting....(31%)\n",
      "Row 120 starting....(33%)\n",
      "Row 130 starting....(36%)\n",
      "Row 140 starting....(39%)\n",
      "Row 150 starting....(42%)\n",
      "Row 160 starting....(45%)\n",
      "Row 170 starting....(47%)\n",
      "Row 180 starting....(50%)\n",
      "Row 190 starting....(53%)\n",
      "Row 200 starting....(56%)\n",
      "Row 210 starting....(59%)\n",
      "Row 220 starting....(61%)\n",
      "Row 230 starting....(64%)\n",
      "Row 240 starting....(67%)\n",
      "Row 250 starting....(70%)\n",
      "Row 260 starting....(73%)\n",
      "Row 270 starting....(75%)\n",
      "Row 280 starting....(78%)\n",
      "Row 290 starting....(81%)\n",
      "Row 300 starting....(84%)\n",
      "Row 310 starting....(87%)\n",
      "Row 320 starting....(89%)\n",
      "Row 330 starting....(92%)\n",
      "Row 340 starting....(95%)\n",
      "Row 350 starting....(98%)\n"
     ]
    },
    {
     "ename": "NameError",
     "evalue": "name 'printf' is not defined",
     "output_type": "error",
     "traceback": [
      "\u001b[0;31m---------------------------------------------------------------------------\u001b[0m",
      "\u001b[0;31mNameError\u001b[0m                                 Traceback (most recent call last)",
      "\u001b[0;32m<ipython-input-116-586f22f6f46e>\u001b[0m in \u001b[0;36m<module>\u001b[0;34m()\u001b[0m\n\u001b[1;32m     20\u001b[0m \u001b[0;31m#         cv2.rectangle(right, (j-offset, i), (j+template_size-offset, i+template_size), (0,255,0))\u001b[0m\u001b[0;34m\u001b[0m\u001b[0;34m\u001b[0m\u001b[0;34m\u001b[0m\u001b[0m\n\u001b[1;32m     21\u001b[0m         \u001b[0mdepth_map\u001b[0m\u001b[0;34m[\u001b[0m\u001b[0mi\u001b[0m\u001b[0;34m+\u001b[0m\u001b[0mtemplate_size\u001b[0m\u001b[0;34m//\u001b[0m\u001b[0;36m2\u001b[0m\u001b[0;34m,\u001b[0m\u001b[0mj\u001b[0m\u001b[0;34m+\u001b[0m\u001b[0mtemplate_size\u001b[0m\u001b[0;34m//\u001b[0m\u001b[0;36m2\u001b[0m\u001b[0;34m]\u001b[0m \u001b[0;34m=\u001b[0m \u001b[0;36m1\u001b[0m\u001b[0;34m/\u001b[0m\u001b[0;34m(\u001b[0m\u001b[0moffset\u001b[0m \u001b[0;34m+\u001b[0m \u001b[0;36m1\u001b[0m\u001b[0;34m)\u001b[0m\u001b[0;34m\u001b[0m\u001b[0;34m\u001b[0m\u001b[0m\n\u001b[0;32m---> 22\u001b[0;31m \u001b[0mprintf\u001b[0m\u001b[0;34m(\u001b[0m\u001b[0;34m\"100%\"\u001b[0m\u001b[0;34m)\u001b[0m\u001b[0;34m\u001b[0m\u001b[0;34m\u001b[0m\u001b[0m\n\u001b[0m",
      "\u001b[0;31mNameError\u001b[0m: name 'printf' is not defined"
     ]
    }
   ],
   "source": [
    "depth_map = np.zeros((rows,cols))\n",
    "for i in range(rows-template_size+1):\n",
    "    if(i % 10==0):\n",
    "        print(\"Row \" + str(i) + \" starting....\" + \"(\" + str(int(((i+1)/(rows-template_size+1))*100)) + \"%)\")\n",
    "    for j in range(cols-template_size+1):\n",
    "        left_template = np_left[i:i+template_size,j:j+template_size]\n",
    "        error = math.inf\n",
    "        offset = 0\n",
    "#         print(\"i: \" + str(i) + \"j: \" + str(j) + \"template size: \" + str(template_size))\n",
    "        for k in range(min(50,j)):\n",
    "#             print(\"Cols: \")\n",
    "#             print(str(j-k) + \"to...\" + str(j+template_size-k))\n",
    "            right_template = np_right[i:i+template_size,j-k:j+template_size-k]\n",
    "            temp_error = np.sum(np.abs(np.subtract(left_template, right_template)))\n",
    "            if(temp_error < error):\n",
    "                error = temp_error\n",
    "                offset = k\n",
    "#             print(str(error) + \" : \" + str(offset))\n",
    "#         cv2.rectangle(left, (j, i), (j+template_size, i+template_size), (255,0,0))\n",
    "#         cv2.rectangle(right, (j-offset, i), (j+template_size-offset, i+template_size), (0,255,0))\n",
    "        depth_map[i+template_size//2,j+template_size//2] = 1/(offset + 1)\n",
    "print(\"100%\")"
   ]
  },
  {
   "cell_type": "code",
   "execution_count": 123,
   "metadata": {},
   "outputs": [],
   "source": [
    "# print(offset)\n",
    "new_depth_map = depth_map * 1000\n",
    "# print(np.max(depth_map))\n",
    "# print(np.min(depth_map))\n",
    "# print(depth_map[150:200,150:200])\n",
    "# print(np.mean(depth_map))\n",
    "# cv2.imshow(\"fig1\", left[150:169,150:169])\n",
    "# cv2.waitKey(0)\n",
    "# print(np.max(new_depth_map))\n",
    "# cv2.imshow(\"fig\", new_depth_map)\n",
    "# cv2.waitKey(0)\n",
    "for i in range(rows):\n",
    "    for j in range(cols):\n",
    "        if new_depth_map[i,j]>63:\n",
    "            new_depth_map[i,j] = 63;\n",
    "        elif new_depth_map[i,j]<20:\n",
    "            new_depth_map[i,j] = 20;"
   ]
  },
  {
   "cell_type": "code",
   "execution_count": 124,
   "metadata": {},
   "outputs": [
    {
     "data": {
      "image/png": "[encoded data removed]",
      "text/plain": [
       "<matplotlib.figure.Figure at 0x1251b5f98>"
      ]
     },
     "metadata": {},
     "output_type": "display_data"
    }
   ],
   "source": [
    "# cv2.imshow(\"fig2\", right[150:169, 150-30:169-30])\n",
    "# cv2.waitKey(0)\n",
    "# error_x1 = np.sum(np.abs(np.subtract(np_left[150:169, 150:169], np_right[150-35,169-35])))\n",
    "# error_x2 = np.sum(np.abs(np.subtract(np_left[150:169, 150:169], np_right[150-139, 169-139])))\n",
    "# print(error_x1)\n",
    "# print(error_x2)\n",
    "im = plt.imshow(new_depth_map, cmap = 'jet')\n",
    "plt.colorbar(im, orientation='vertical')\n",
    "plt.draw()\n",
    "plt.show()"
   ]
  },
  {
   "cell_type": "code",
   "execution_count": null,
   "metadata": {
    "collapsed": true
   },
   "outputs": [],
   "source": []
  }
 ],
 "metadata": {
  "kernelspec": {
   "display_name": "Python 3",
   "language": "python",
   "name": "python3"
  },
  "language_info": {
   "codemirror_mode": {
    "name": "ipython",
    "version": 3
   },
   "file_extension": ".py",
   "mimetype": "text/x-python",
   "name": "python",
   "nbconvert_exporter": "python",
   "pygments_lexer": "ipython3",
   "version": "3.6.8"
  }
 },
 "nbformat": 4,
 "nbformat_minor": 2
}
