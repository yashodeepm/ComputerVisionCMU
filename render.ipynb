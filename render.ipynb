{
 "cells": [
  {
   "cell_type": "code",
   "execution_count": 18,
   "metadata": {},
   "outputs": [],
   "source": [
    "import numpy as np"
   ]
  },
  {
   "cell_type": "code",
   "execution_count": 106,
   "metadata": {},
   "outputs": [
    {
     "name": "stdout",
     "output_type": "stream",
     "text": [
      "Enter number of points4\n",
      "2\n",
      "0\n",
      "2\n",
      "[[2, 0, 2]]\n",
      "0\n",
      "2\n",
      "2\n",
      "[[2, 0, 2], [0, 2, 2]]\n",
      "-2\n",
      "0\n",
      "2\n",
      "[[2, 0, 2], [0, 2, 2], [-2, 0, 2]]\n",
      "0\n",
      "-2\n",
      "2\n",
      "[[2, 0, 2], [0, 2, 2], [-2, 0, 2], [0, -2, 2]]\n"
     ]
    }
   ],
   "source": [
    "points = []\n",
    "n = int(input(\"Enter number of points\"))\n",
    "for i in range(n):\n",
    "    x = int(input())\n",
    "    y = int(input())\n",
    "    z = int(input())\n",
    "    temp = []\n",
    "    temp.append(x)\n",
    "    temp.append(y)\n",
    "    temp.append(z)\n",
    "    points.append(temp)\n",
    "    print(points)"
   ]
  },
  {
   "cell_type": "markdown",
   "metadata": {},
   "source": [
    " pos_of_camera = []\n",
    " x = int(input(\"Enter position of camera\"))\n",
    " y = int(input())\n",
    " z = int(input())"
   ]
  },
  {
   "cell_type": "code",
   "execution_count": 107,
   "metadata": {},
   "outputs": [
    {
     "name": "stdout",
     "output_type": "stream",
     "text": [
      "Enter position of camera0\n",
      "0\n",
      "0\n"
     ]
    }
   ],
   "source": [
    "pos_of_camera = [] \n",
    "x = int(input(\"Enter position of camera\"))\n",
    "y = int(input())\n",
    "z = int(input())\n",
    "pos_of_camera.append(x)\n",
    "pos_of_camera.append(y)\n",
    "pos_of_camera.append(z)"
   ]
  },
  {
   "cell_type": "code",
   "execution_count": 108,
   "metadata": {},
   "outputs": [
    {
     "name": "stdout",
     "output_type": "stream",
     "text": [
      "Enter position of projection plane1\n"
     ]
    }
   ],
   "source": [
    "pos_of_plane = int(input(\"Enter position of projection plane\"))"
   ]
  },
  {
   "cell_type": "code",
   "execution_count": 109,
   "metadata": {},
   "outputs": [],
   "source": [
    "pos_of_camera = np.array(pos_of_camera)\n",
    "points = np.array(points)"
   ]
  },
  {
   "cell_type": "code",
   "execution_count": 110,
   "metadata": {},
   "outputs": [],
   "source": [
    "#Translate to origin\n",
    "# np.size(points)"
   ]
  },
  {
   "cell_type": "code",
   "execution_count": 111,
   "metadata": {},
   "outputs": [],
   "source": [
    "# np.dtype(pos_of_camera)"
   ]
  },
  {
   "cell_type": "code",
   "execution_count": 112,
   "metadata": {},
   "outputs": [],
   "source": [
    "# pos_of_camera.shape"
   ]
  },
  {
   "cell_type": "code",
   "execution_count": 113,
   "metadata": {},
   "outputs": [],
   "source": [
    "# points.shape"
   ]
  },
  {
   "cell_type": "code",
   "execution_count": 114,
   "metadata": {},
   "outputs": [],
   "source": [
    "# points.dtype"
   ]
  },
  {
   "cell_type": "code",
   "execution_count": 115,
   "metadata": {},
   "outputs": [
    {
     "data": {
      "text/plain": [
       "array([[ 2,  0,  2],\n",
       "       [ 0,  2,  2],\n",
       "       [-2,  0,  2],\n",
       "       [ 0, -2,  2]])"
      ]
     },
     "execution_count": 115,
     "metadata": {},
     "output_type": "execute_result"
    }
   ],
   "source": [
    "tr_points = points-pos_of_camera\n",
    "tr_points"
   ]
  },
  {
   "cell_type": "code",
   "execution_count": 116,
   "metadata": {},
   "outputs": [
    {
     "data": {
      "text/plain": [
       "array([[ 2,  0,  2],\n",
       "       [ 0,  2,  2],\n",
       "       [-2,  0,  2],\n",
       "       [ 0, -2,  2]])"
      ]
     },
     "execution_count": 116,
     "metadata": {},
     "output_type": "execute_result"
    }
   ],
   "source": [
    "points"
   ]
  },
  {
   "cell_type": "code",
   "execution_count": 117,
   "metadata": {},
   "outputs": [],
   "source": [
    "tr_plane = pos_of_plane - pos_of_camera[2]"
   ]
  },
  {
   "cell_type": "code",
   "execution_count": 118,
   "metadata": {},
   "outputs": [
    {
     "data": {
      "text/plain": [
       "1"
      ]
     },
     "execution_count": 118,
     "metadata": {},
     "output_type": "execute_result"
    }
   ],
   "source": [
    "tr_plane"
   ]
  },
  {
   "cell_type": "code",
   "execution_count": 119,
   "metadata": {},
   "outputs": [
    {
     "name": "stdout",
     "output_type": "stream",
     "text": [
      "[[ 2  0]\n",
      " [ 0  2]\n",
      " [-2  0]\n",
      " [ 0 -2]]\n",
      "[[2]\n",
      " [2]\n",
      " [2]\n",
      " [2]]\n",
      "--------------------------------------------------------------------------------\n",
      "[[ 1.  0.  1.]\n",
      " [ 0.  1.  1.]\n",
      " [-1.  0.  1.]\n",
      " [ 0. -1.  1.]]\n"
     ]
    }
   ],
   "source": [
    "print(tr_points[:,:2])\n",
    "print(tr_points[:,[2]])\n",
    "pr_points = (tr_points[:,:2]/tr_points[:,[2]]) * tr_plane\n",
    "#Invert translation\n",
    "final_points = pr_points + pos_of_camera[:2]\n",
    "final_points = np.concatenate((final_points,np.ones((n,1)) * pos_of_plane), axis = 1)\n",
    "print(\"--------------------------------------------------------------------------------\")\n",
    "print(final_points)"
   ]
  },
  {
   "cell_type": "code",
   "execution_count": null,
   "metadata": {},
   "outputs": [],
   "source": []
  }
 ],
 "metadata": {
  "kernelspec": {
   "display_name": "Python 3",
   "language": "python",
   "name": "python3"
  },
  "language_info": {
   "codemirror_mode": {
    "name": "ipython",
    "version": 3
   },
   "file_extension": ".py",
   "mimetype": "text/x-python",
   "name": "python",
   "nbconvert_exporter": "python",
   "pygments_lexer": "ipython3",
   "version": "3.7.1"
  }
 },
 "nbformat": 4,
 "nbformat_minor": 2
}
